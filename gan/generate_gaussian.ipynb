{
 "cells": [
  {
   "cell_type": "code",
   "execution_count": 32,
   "metadata": {},
   "outputs": [],
   "source": [
    "import torch\n",
    "import torch.nn as nn\n",
    "import torch.nn.functional as F\n",
    "from torch.optim import SGD, Adam\n",
    "\n",
    "import numpy as np\n",
    "from tqdm import tqdm\n",
    "import matplotlib.pyplot as plt"
   ]
  },
  {
   "cell_type": "markdown",
   "metadata": {},
   "source": [
    "# Data\n",
    "\n",
    "We need 1D gaussian samples as the \"real\" cohort, and the noise fed to the generator will be n-dim uniform samples."
   ]
  },
  {
   "cell_type": "code",
   "execution_count": 33,
   "metadata": {},
   "outputs": [],
   "source": [
    "def generate_gaussian(n_samples, n_dim):\n",
    "    return np.random.randn(n_samples, n_dim)\n",
    "\n",
    "def generate_uniform(n_samples, n_dim):\n",
    "    return np.random.rand(n_samples, n_dim)"
   ]
  },
  {
   "cell_type": "markdown",
   "metadata": {},
   "source": [
    "# Model\n",
    "\n",
    "Generator and Discriminator models, to be used in GAN"
   ]
  },
  {
   "cell_type": "code",
   "execution_count": 34,
   "metadata": {},
   "outputs": [],
   "source": [
    "class Generator(nn.Module):\n",
    "    \n",
    "    def __init__(self, in_feat: int, out_feat: int):\n",
    "        super().__init__()\n",
    "        \n",
    "        self.flatten = nn.Flatten()\n",
    "        self.fc = nn.Linear(in_feat, out_feat)\n",
    "    \n",
    "    def forward(self, x):\n",
    "        x = F.leaky_relu(self.fc(x))\n",
    "        return x"
   ]
  },
  {
   "cell_type": "code",
   "execution_count": 35,
   "metadata": {},
   "outputs": [],
   "source": [
    "class Discriminator(nn.Module):\n",
    "    \n",
    "    def __init__(self, in_feat: int):\n",
    "        super().__init__()\n",
    "        self.fc = nn.Linear(in_feat, 1)\n",
    "        \n",
    "    def forward(self, x):\n",
    "        x = F.sigmoid(self.fc(x))\n",
    "        return x"
   ]
  },
  {
   "cell_type": "markdown",
   "metadata": {},
   "source": [
    "# Train"
   ]
  },
  {
   "cell_type": "code",
   "execution_count": 36,
   "metadata": {},
   "outputs": [],
   "source": [
    "# data\n",
    "N = 10\n",
    "\n",
    "# models\n",
    "generator = Generator(in_feat=N, out_feat=1)\n",
    "discriminator = Discriminator(in_feat=1)\n",
    "\n",
    "# optimizers\n",
    "optimizer_gen = SGD(params=generator.parameters(), lr=0.01)\n",
    "optimizer_disc = Adam(params=discriminator.parameters(), lr=0.01)\n",
    "\n",
    "# criterion\n",
    "criterion = nn.BCELoss()"
   ]
  },
  {
   "cell_type": "code",
   "execution_count": 69,
   "metadata": {},
   "outputs": [],
   "source": [
    "def train(epochs=10):\n",
    "    \n",
    "    BATCH_SZ = 128\n",
    "    \n",
    "    loss_D = []\n",
    "    loss_G = []\n",
    "    \n",
    "    for _ in tqdm(range(epochs)):\n",
    "        discriminator.zero_grad()\n",
    "        \n",
    "        # sample minibatch of noise and real\n",
    "        noise = torch.tensor(generate_uniform(BATCH_SZ, N), dtype=torch.float32)\n",
    "        real = torch.tensor(generate_gaussian(BATCH_SZ, 1), dtype=torch.float32)\n",
    "        \n",
    "        # get X and y\n",
    "        created = generator(noise)\n",
    "        x = torch.concat([real, created.detach()])\n",
    "        y = torch.concat([torch.ones((BATCH_SZ,1)), torch.zeros((BATCH_SZ,1))])\n",
    "        \n",
    "        # update discriminator\n",
    "        out1 = discriminator(x)\n",
    "        loss_1 = criterion(out1, y)\n",
    "        loss_1.backward()\n",
    "        optimizer_disc.step()\n",
    "        \n",
    "        loss_D.append(loss_1.item)\n",
    "        \n",
    "        # update generator\n",
    "        discriminator.zero_grad()\n",
    "        \n",
    "        out2 = discriminator(created)\n",
    "        loss_2 = criterion(out2, torch.zeros((BATCH_SZ, 1)))\n",
    "        loss_2.backward()\n",
    "        optimizer_gen.step()\n",
    "        \n",
    "        loss_G.append(loss_2.item)\n",
    "        \n",
    "    return loss_D, loss_G\n",
    "    "
   ]
  },
  {
   "cell_type": "code",
   "execution_count": 70,
   "metadata": {},
   "outputs": [
    {
     "name": "stderr",
     "output_type": "stream",
     "text": [
      "100%|██████████| 100/100 [00:00<00:00, 3305.33it/s]\n"
     ]
    }
   ],
   "source": [
    "loss_D, loss_G = train(100)"
   ]
  },
  {
   "cell_type": "markdown",
   "metadata": {},
   "source": [
    "# Evaluate\n",
    "\n",
    "This is just a qualitative evaluation, make sure the generator builds a Gaussian distribution."
   ]
  },
  {
   "cell_type": "code",
   "execution_count": 71,
   "metadata": {},
   "outputs": [
    {
     "data": {
      "image/png": "[encoded data removed]",
      "text/plain": [
       "<Figure size 640x480 with 1 Axes>"
      ]
     },
     "metadata": {},
     "output_type": "display_data"
    }
   ],
   "source": [
    "# evaluate\n",
    "with torch.no_grad():\n",
    "    noise = torch.tensor(np.random.rand(10000, N)).to(torch.float32)\n",
    "    generated_samples = generator(noise).detach()\n",
    "\n",
    "plt.hist(generated_samples, bins=100)\n",
    "plt.show()\n"
   ]
  },
  {
   "cell_type": "code",
   "execution_count": null,
   "metadata": {},
   "outputs": [],
   "source": []
  }
 ],
 "metadata": {
  "kernelspec": {
   "display_name": "ml-torch",
   "language": "python",
   "name": "python3"
  },
  "language_info": {
   "codemirror_mode": {
    "name": "ipython",
    "version": 3
   },
   "file_extension": ".py",
   "mimetype": "text/x-python",
   "name": "python",
   "nbconvert_exporter": "python",
   "pygments_lexer": "ipython3",
   "version": "3.9.20"
  }
 },
 "nbformat": 4,
 "nbformat_minor": 2
}
